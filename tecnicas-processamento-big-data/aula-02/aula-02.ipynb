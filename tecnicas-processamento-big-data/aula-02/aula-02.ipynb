{
 "cells": [
  {
   "attachments": {},
   "cell_type": "markdown",
   "id": "7b1e26fd-1d92-4cca-a6a6-977c796d6dfa",
   "metadata": {},
   "source": [
    "Lista de inadimplência em 2016:\n",
    "- jan/2016: 4,3\n",
    "- fev/2016: 4,3\n",
    "- mar/2016: 4,25\n",
    "- abr/2016: 4,3\n",
    "- mai/2016: 4,32\n",
    "- jun/2016: 4,1\n",
    "- ago/2016: 4,12\n",
    "- set/2016: 4,18\n",
    "- out/2016: 4,18\n",
    "- nov/2016: 4,1\n",
    "- dez/2016: 3,95\n",
    "\n",
    "Calcular:\n",
    "- Variância amostral\n",
    "- Desvio-padrão amostral"
   ]
  },
  {
   "cell_type": "code",
   "execution_count": 19,
   "id": "2af42108-5785-49aa-b89d-19989d2cad25",
   "metadata": {},
   "outputs": [],
   "source": [
    "from statistics import *"
   ]
  },
  {
   "cell_type": "code",
   "execution_count": 20,
   "id": "2eeea862-3105-4b40-ac0a-5e045923e867",
   "metadata": {},
   "outputs": [],
   "source": [
    "inadimplencia_2016 = [4.3, 4.3, 4.25, 4.3, 4.32, 4.1, 4.1, 4.12, 4.18, 4.18, 4.1, 3.95]"
   ]
  },
  {
   "cell_type": "markdown",
   "id": "17b711d4-03c3-4c46-b322-16c87587aa1a",
   "metadata": {},
   "source": [
    "# Calcular a variância amostral e o desvio padrão amostral"
   ]
  },
  {
   "cell_type": "code",
   "execution_count": 21,
   "id": "6856663a-5ded-4be5-93bd-1e7b911c720c",
   "metadata": {},
   "outputs": [
    {
     "name": "stdout",
     "output_type": "stream",
     "text": [
      "a variância amostral é: 0.013024242424242428\n",
      "o desvio padrão amostral é: 0.1141238030572169\n"
     ]
    }
   ],
   "source": [
    "print(f\"a variância amostral é: {variance(inadimplencia_2016)}\")\n",
    "print(f\"o desvio padrão amostral é: {stdev(inadimplencia_2016)}\")"
   ]
  }
 ],
 "metadata": {
  "kernelspec": {
   "display_name": "Python 3 (ipykernel)",
   "language": "python",
   "name": "python3"
  },
  "language_info": {
   "codemirror_mode": {
    "name": "ipython",
    "version": 3
   },
   "file_extension": ".py",
   "mimetype": "text/x-python",
   "name": "python",
   "nbconvert_exporter": "python",
   "pygments_lexer": "ipython3",
   "version": "3.11.5"
  }
 },
 "nbformat": 4,
 "nbformat_minor": 5
}
