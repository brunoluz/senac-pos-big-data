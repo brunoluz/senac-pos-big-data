{
 "cells": [
  {
   "cell_type": "code",
   "execution_count": 1,
   "id": "e274835a",
   "metadata": {},
   "outputs": [
    {
     "name": "stdout",
     "output_type": "stream",
     "text": [
      "Collecting package metadata (current_repodata.json): done\n",
      "Solving environment: done\n",
      "\n",
      "# All requested packages already installed.\n",
      "\n",
      "\n",
      "Note: you may need to restart the kernel to use updated packages.\n",
      "Collecting package metadata (current_repodata.json): done\n",
      "Solving environment: done\n",
      "\n",
      "# All requested packages already installed.\n",
      "\n",
      "\n",
      "Note: you may need to restart the kernel to use updated packages.\n"
     ]
    }
   ],
   "source": [
    "%conda install pandas\n",
    "%conda install streamlit"
   ]
  },
  {
   "cell_type": "code",
   "execution_count": 4,
   "id": "9ccd669b",
   "metadata": {},
   "outputs": [],
   "source": [
    "import pandas as pd\n",
    "import streamlit as st"
   ]
  },
  {
   "cell_type": "code",
   "execution_count": 5,
   "id": "cfc104f7",
   "metadata": {},
   "outputs": [],
   "source": [
    "df = pd.read_csv(\"criminalidade_sp_2.csv\")"
   ]
  },
  {
   "cell_type": "code",
   "execution_count": 6,
   "id": "1eeb363a",
   "metadata": {},
   "outputs": [
    {
     "name": "stderr",
     "output_type": "stream",
     "text": [
      "2023-09-11 20:42:50.922 \n",
      "  \u001b[33m\u001b[1mWarning:\u001b[0m to view this Streamlit app on a browser, run it with the following\n",
      "  command:\n",
      "\n",
      "    streamlit run /usr/local/Caskroom/miniconda/base/envs/tecnicas-processamento-big-data/lib/python3.11/site-packages/ipykernel_launcher.py [ARGUMENTS]\n"
     ]
    }
   ],
   "source": [
    "st.title(\"Criminalidade em São Paulo\")\n",
    "st.markdown(\"\"\"\n",
    "    A **criminalidade** é um problema recorrente no Brasil.\n",
    "    Buscamos sempre formas de diminuir esses índices e usando técnicas de \n",
    "    Ciências de Dados conseguimos entender melhor o que está acontecendo e \n",
    "    gerar insights que direcionem açõeµes capazes de diminuir os \n",
    "    Índices de criminalidade.\n",
    "\"\"\")\n",
    "if st.sidebar.checkbox(\"Mostrar tabela?\"):\n",
    "    st.header(\"Raw Data\")\n",
    "    st.write(df)"
   ]
  },
  {
   "cell_type": "code",
   "execution_count": null,
   "id": "47de0bfa",
   "metadata": {},
   "outputs": [],
   "source": []
  }
 ],
 "metadata": {
  "kernelspec": {
   "display_name": "Python 3 (ipykernel)",
   "language": "python",
   "name": "python3"
  },
  "language_info": {
   "codemirror_mode": {
    "name": "ipython",
    "version": 3
   },
   "file_extension": ".py",
   "mimetype": "text/x-python",
   "name": "python",
   "nbconvert_exporter": "python",
   "pygments_lexer": "ipython3",
   "version": "3.11.5"
  }
 },
 "nbformat": 4,
 "nbformat_minor": 5
}
