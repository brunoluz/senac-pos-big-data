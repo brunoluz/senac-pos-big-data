{
 "cells": [
  {
   "cell_type": "markdown",
   "id": "296412be",
   "metadata": {},
   "source": [
    "Monte um modelo de regressao logistica e LDA para predizer a coluna income usando a base a seguir:\n",
    "\n",
    "Colunas:\n",
    "\n",
    "    age\n",
    "    workclass\n",
    "    fnlwgt\n",
    "    education\n",
    "    educational-num\n",
    "    marital-status\n",
    "    occupation\n",
    "    relationship\n",
    "    race\n",
    "    gender\n",
    "    capital-gain\n",
    "    capital-loss\n",
    "    hours-per-week\n",
    "    native-country\n",
    "    income\n",
    "\n",
    "https://raw.githubusercontent.com/silviostanzani/PosBigData/master/adult.csv\n",
    "\n",
    "Opcional: divida a base entre treino e teste e compare os resultados obtidos\n",
    "\n",
    "Utilize o LDA para classificar o dataset a seguir de acordo com a coluna Classhttps://raw.githubusercontent.com/MateLabs/Public-Datasets/master/Datasets/wine.csv\n"
   ]
  },
  {
   "cell_type": "code",
   "execution_count": 2,
   "id": "a42db0cb",
   "metadata": {},
   "outputs": [
    {
     "name": "stderr",
     "output_type": "stream",
     "text": [
      "Updating HTML index of packages in '.Library'\n",
      "Making 'packages.html' ... done\n",
      "also installing the dependencies ‘listenv’, ‘parallelly’, ‘future’, ‘globals’, ‘shape’, ‘future.apply’, ‘numDeriv’, ‘progressr’, ‘SQUAREM’, ‘colorspace’, ‘utf8’, ‘diagram’, ‘lava’, ‘farver’, ‘labeling’, ‘munsell’, ‘R6’, ‘RColorBrewer’, ‘viridisLite’, ‘fansi’, ‘pillar’, ‘pkgconfig’, ‘tzdb’, ‘cpp11’, ‘prodlim’, ‘timechange’, ‘stringi’, ‘cli’, ‘glue’, ‘gtable’, ‘isoband’, ‘lifecycle’, ‘rlang’, ‘scales’, ‘tibble’, ‘vctrs’, ‘proxy’, ‘iterators’, ‘data.table’, ‘dplyr’, ‘clock’, ‘ellipsis’, ‘generics’, ‘gower’, ‘hardhat’, ‘ipred’, ‘lubridate’, ‘magrittr’, ‘purrr’, ‘tidyr’, ‘tidyselect’, ‘timeDate’, ‘stringr’, ‘ggplot2’, ‘e1071’, ‘foreach’, ‘ModelMetrics’, ‘plyr’, ‘pROC’, ‘recipes’, ‘reshape2’, ‘withr’\n",
      "\n",
      "Updating HTML index of packages in '.Library'\n",
      "Making 'packages.html' ... done\n",
      "also installing the dependencies ‘fastmap’, ‘sys’, ‘bit’, ‘ps’, ‘sass’, ‘cachem’, ‘rappdirs’, ‘rematch’, ‘askpass’, ‘bit64’, ‘prettyunits’, ‘processx’, ‘evaluate’, ‘highr’, ‘xfun’, ‘yaml’, ‘bslib’, ‘fontawesome’, ‘htmltools’, ‘jquerylib’, ‘tinytex’, ‘backports’, ‘memoise’, ‘blob’, ‘DBI’, ‘gargle’, ‘cellranger’, ‘curl’, ‘ids’, ‘rematch2’, ‘mime’, ‘openssl’, ‘systemfonts’, ‘textshaping’, ‘clipr’, ‘vroom’, ‘progress’, ‘callr’, ‘fs’, ‘knitr’, ‘rmarkdown’, ‘selectr’, ‘broom’, ‘conflicted’, ‘dbplyr’, ‘dtplyr’, ‘forcats’, ‘googledrive’, ‘googlesheets4’, ‘haven’, ‘hms’, ‘httr’, ‘jsonlite’, ‘modelr’, ‘ragg’, ‘readr’, ‘readxl’, ‘reprex’, ‘rstudioapi’, ‘rvest’, ‘xml2’\n",
      "\n",
      "Warning message in install.packages(\"tidyverse\"):\n",
      "“installation of package ‘systemfonts’ had non-zero exit status”Warning message in install.packages(\"tidyverse\"):\n",
      "“installation of package ‘textshaping’ had non-zero exit status”Warning message in install.packages(\"tidyverse\"):\n",
      "“installation of package ‘ragg’ had non-zero exit status”Warning message in install.packages(\"tidyverse\"):\n",
      "“installation of package ‘tidyverse’ had non-zero exit status”Updating HTML index of packages in '.Library'\n",
      "Making 'packages.html' ... done\n",
      "Warning message:\n",
      "“dependency ‘pbkrtest’ is not available”also installing the dependencies ‘rprojroot’, ‘diffobj’, ‘brio’, ‘desc’, ‘pkgload’, ‘praise’, ‘waldo’, ‘Matrix’, ‘testthat’, ‘SparseM’, ‘MatrixModels’, ‘minqa’, ‘nloptr’, ‘RcppEigen’, ‘carData’, ‘abind’, ‘quantreg’, ‘lme4’\n",
      "\n",
      "Warning message in install.packages(\"car\"):\n",
      "“installation of package ‘RcppEigen’ had non-zero exit status”Warning message in install.packages(\"car\"):\n",
      "“installation of package ‘nloptr’ had non-zero exit status”Warning message in install.packages(\"car\"):\n",
      "“installation of package ‘lme4’ had non-zero exit status”Warning message in install.packages(\"car\"):\n",
      "“installation of package ‘car’ had non-zero exit status”Updating HTML index of packages in '.Library'\n",
      "Making 'packages.html' ... done\n",
      "Updating HTML index of packages in '.Library'\n",
      "Making 'packages.html' ... done\n"
     ]
    }
   ],
   "source": [
    "install.packages(\"mlbench\")\n",
    "install.packages(\"caret\")\n",
    "install.packages(\"tidyverse\")\n",
    "install.packages(\"car\")\n",
    "install.packages(\"ISLR\")"
   ]
  },
  {
   "cell_type": "code",
   "execution_count": null,
   "id": "24c0de83",
   "metadata": {},
   "outputs": [],
   "source": []
  }
 ],
 "metadata": {
  "kernelspec": {
   "display_name": "R",
   "language": "R",
   "name": "ir"
  },
  "language_info": {
   "codemirror_mode": "r",
   "file_extension": ".r",
   "mimetype": "text/x-r-source",
   "name": "R",
   "pygments_lexer": "r",
   "version": "3.6.1"
  }
 },
 "nbformat": 4,
 "nbformat_minor": 5
}
