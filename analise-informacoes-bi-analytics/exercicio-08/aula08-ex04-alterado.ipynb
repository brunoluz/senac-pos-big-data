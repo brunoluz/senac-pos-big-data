{
 "cells": [
  {
   "cell_type": "code",
   "execution_count": 4,
   "id": "b9b6f38d-77ad-4ebe-bd9e-a03de235c866",
   "metadata": {},
   "outputs": [],
   "source": [
    "from keras.preprocessing.image import load_img\n",
    "from keras.preprocessing.image import img_to_array\n",
    "from keras.applications.vgg16 import preprocess_input\n",
    "from keras.applications.vgg16 import decode_predictions\n",
    "from keras.applications.vgg16 import VGG16\n",
    "\n",
    "\n",
    "from keras.applications import ResNet50\n",
    "from keras.applications import InceptionV3\n",
    "from keras.applications import Xception # TensorFlow ONLY\n",
    "from keras.applications import VGG16\n",
    "from keras.applications import VGG19\n",
    "from keras.applications import imagenet_utils"
   ]
  },
  {
   "cell_type": "code",
   "execution_count": 5,
   "id": "00dfef58-1b3a-4d93-9daa-09525a6b9bd9",
   "metadata": {},
   "outputs": [
    {
     "name": "stdout",
     "output_type": "stream",
     "text": [
      "1/1 [==============================] - 0s 237ms/step\n",
      "1. coffee_mug: 89.09%\n",
      "2. cup: 5.26%\n",
      "3. coffeepot: 2.26%\n",
      "4. pitcher: 1.32%\n",
      "5. teapot: 0.80%\n"
     ]
    }
   ],
   "source": [
    "img_file = 'mug.jpg'\n",
    "\n",
    "model = VGG19()\n",
    "\n",
    "image = load_img(img_file, target_size=(224, 224))\n",
    "\n",
    "# Converter pixels em um array\n",
    "image = img_to_array(image)\n",
    "\n",
    "# acertar formato do array para o modelo\n",
    "image = image.reshape((1, image.shape[0], image.shape[1], image.shape[2]))\n",
    "\n",
    "# preprocessamento da imagem\n",
    "image = preprocess_input(image)\n",
    "\n",
    "# calcular probabilidade considerando todos os \"labels\"\n",
    "yhat = model.predict(image)\n",
    "\n",
    "# Codificar as probabilidades retornadas nos \"labels\"\n",
    "label = decode_predictions(yhat)\n",
    "\n",
    "\n",
    "for (i, (imagenetID, label, prob)) in enumerate(label[0]):\n",
    "\tprint(\"{}. {}: {:.2f}%\".format(i + 1, label, prob * 100))"
   ]
  },
  {
   "cell_type": "code",
   "execution_count": null,
   "id": "816c208b-2401-4b7d-97c9-3db44f336faf",
   "metadata": {},
   "outputs": [],
   "source": []
  }
 ],
 "metadata": {
  "kernelspec": {
   "display_name": "Python 3 (ipykernel)",
   "language": "python",
   "name": "python3"
  },
  "language_info": {
   "codemirror_mode": {
    "name": "ipython",
    "version": 3
   },
   "file_extension": ".py",
   "mimetype": "text/x-python",
   "name": "python",
   "nbconvert_exporter": "python",
   "pygments_lexer": "ipython3",
   "version": "3.9.6"
  }
 },
 "nbformat": 4,
 "nbformat_minor": 5
}
