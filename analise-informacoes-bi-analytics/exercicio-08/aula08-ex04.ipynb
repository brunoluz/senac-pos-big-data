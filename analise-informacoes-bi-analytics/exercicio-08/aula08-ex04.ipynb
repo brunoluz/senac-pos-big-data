{
 "cells": [
  {
   "cell_type": "code",
   "execution_count": 1,
   "id": "b9b6f38d-77ad-4ebe-bd9e-a03de235c866",
   "metadata": {},
   "outputs": [
    {
     "name": "stderr",
     "output_type": "stream",
     "text": [
      "2023-09-13 22:11:12.006633: I tensorflow/core/platform/cpu_feature_guard.cc:182] This TensorFlow binary is optimized to use available CPU instructions in performance-critical operations.\n",
      "To enable the following instructions: AVX2 FMA, in other operations, rebuild TensorFlow with the appropriate compiler flags.\n"
     ]
    }
   ],
   "source": [
    "from keras.preprocessing.image import load_img\n",
    "from keras.preprocessing.image import img_to_array\n",
    "from keras.applications.vgg16 import preprocess_input\n",
    "from keras.applications.vgg16 import decode_predictions\n",
    "from keras.applications.vgg16 import VGG16\n",
    "\n",
    "\n",
    "from keras.applications import ResNet50\n",
    "from keras.applications import InceptionV3\n",
    "from keras.applications import Xception # TensorFlow ONLY\n",
    "from keras.applications import VGG16\n",
    "from keras.applications import VGG19\n",
    "from keras.applications import imagenet_utils"
   ]
  },
  {
   "cell_type": "code",
   "execution_count": 10,
   "id": "454cd3eb-db3e-40e7-84a2-51270cba904b",
   "metadata": {},
   "outputs": [],
   "source": [
    "img_file = 'tv.png'"
   ]
  },
  {
   "cell_type": "code",
   "execution_count": 11,
   "id": "00dfef58-1b3a-4d93-9daa-09525a6b9bd9",
   "metadata": {},
   "outputs": [
    {
     "name": "stdout",
     "output_type": "stream",
     "text": [
      "1/1 [==============================] - 0s 389ms/step\n",
      "1. home_theater: 72.58%\n",
      "2. entertainment_center: 8.12%\n",
      "3. television: 5.53%\n",
      "4. desktop_computer: 5.06%\n",
      "5. monitor: 2.58%\n"
     ]
    }
   ],
   "source": [
    "model = VGG16()\n",
    "\n",
    "image = load_img(img_file, target_size=(224, 224))\n",
    "\n",
    "# Converter pixels em um array\n",
    "image = img_to_array(image)\n",
    "\n",
    "# acertar formato do array para o modelo\n",
    "image = image.reshape((1, image.shape[0], image.shape[1], image.shape[2]))\n",
    "\n",
    "# preprocessamento da imagem\n",
    "image = preprocess_input(image)\n",
    "\n",
    "# calcular probabilidade considerando todos os \"labels\"\n",
    "yhat = model.predict(image)\n",
    "\n",
    "# Codificar as probabilidades retornadas nos \"labels\"\n",
    "label = decode_predictions(yhat)\n",
    "\n",
    "\n",
    "for (i, (imagenetID, label, prob)) in enumerate(label[0]):\n",
    "\tprint(\"{}. {}: {:.2f}%\".format(i + 1, label, prob * 100))"
   ]
  },
  {
   "cell_type": "code",
   "execution_count": null,
   "id": "84a6229b-a6c2-43d1-bbd4-4d97cf58bab9",
   "metadata": {},
   "outputs": [],
   "source": []
  }
 ],
 "metadata": {
  "kernelspec": {
   "display_name": "Python 3 (ipykernel)",
   "language": "python",
   "name": "python3"
  },
  "language_info": {
   "codemirror_mode": {
    "name": "ipython",
    "version": 3
   },
   "file_extension": ".py",
   "mimetype": "text/x-python",
   "name": "python",
   "nbconvert_exporter": "python",
   "pygments_lexer": "ipython3",
   "version": "3.9.6"
  }
 },
 "nbformat": 4,
 "nbformat_minor": 5
}
