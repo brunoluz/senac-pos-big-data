{
 "cells": [
  {
   "cell_type": "code",
   "execution_count": 1,
   "id": "f0060140-f3ee-45cb-b35b-a83538eec6f7",
   "metadata": {},
   "outputs": [
    {
     "name": "stdout",
     "output_type": "stream",
     "text": [
      "Requirement already satisfied: sklearn in ./miniconda3/envs/jupyter/lib/python3.10/site-packages (0.0.post11)\n",
      "Requirement already satisfied: boto3 in ./miniconda3/envs/jupyter/lib/python3.10/site-packages (1.33.3)\n",
      "Requirement already satisfied: botocore<1.34.0,>=1.33.3 in ./miniconda3/envs/jupyter/lib/python3.10/site-packages (from boto3) (1.33.3)\n",
      "Requirement already satisfied: jmespath<2.0.0,>=0.7.1 in ./miniconda3/envs/jupyter/lib/python3.10/site-packages (from boto3) (1.0.1)\n",
      "Requirement already satisfied: s3transfer<0.9.0,>=0.8.0 in ./miniconda3/envs/jupyter/lib/python3.10/site-packages (from boto3) (0.8.2)\n",
      "Requirement already satisfied: python-dateutil<3.0.0,>=2.1 in ./miniconda3/envs/jupyter/lib/python3.10/site-packages (from botocore<1.34.0,>=1.33.3->boto3) (2.8.2)\n",
      "Requirement already satisfied: urllib3<2.1,>=1.25.4 in ./miniconda3/envs/jupyter/lib/python3.10/site-packages (from botocore<1.34.0,>=1.33.3->boto3) (1.26.18)\n",
      "Requirement already satisfied: six>=1.5 in ./miniconda3/envs/jupyter/lib/python3.10/site-packages (from python-dateutil<3.0.0,>=2.1->botocore<1.34.0,>=1.33.3->boto3) (1.16.0)\n",
      "Requirement already satisfied: pandas in ./miniconda3/envs/jupyter/lib/python3.10/site-packages (2.1.3)\n",
      "Requirement already satisfied: numpy<2,>=1.22.4 in ./miniconda3/envs/jupyter/lib/python3.10/site-packages (from pandas) (1.26.0)\n",
      "Requirement already satisfied: python-dateutil>=2.8.2 in ./miniconda3/envs/jupyter/lib/python3.10/site-packages (from pandas) (2.8.2)\n",
      "Requirement already satisfied: pytz>=2020.1 in ./miniconda3/envs/jupyter/lib/python3.10/site-packages (from pandas) (2023.3.post1)\n",
      "Requirement already satisfied: tzdata>=2022.1 in ./miniconda3/envs/jupyter/lib/python3.10/site-packages (from pandas) (2023.3)\n",
      "Requirement already satisfied: six>=1.5 in ./miniconda3/envs/jupyter/lib/python3.10/site-packages (from python-dateutil>=2.8.2->pandas) (1.16.0)\n"
     ]
    }
   ],
   "source": [
    "!pip install sklearn\n",
    "!pip install boto3\n",
    "!pip install pandas"
   ]
  },
  {
   "cell_type": "code",
   "execution_count": 2,
   "id": "534de644-f5e7-414e-bfd8-f53621c62e5e",
   "metadata": {},
   "outputs": [],
   "source": [
    "import pandas as pd\n",
    "import sklearn\n",
    "from sklearn import linear_model\n",
    "from sklearn.model_selection import train_test_split\n",
    "from sklearn import metrics\n",
    "import boto3\n",
    "from sklearn import svm\n",
    "from sklearn import datasets\n",
    "import pickle\n",
    "from joblib import dump, load"
   ]
  },
  {
   "cell_type": "code",
   "execution_count": 3,
   "id": "6e37103e-49e4-4122-87df-31dec2a5f808",
   "metadata": {},
   "outputs": [],
   "source": [
    "s3_client = boto3.client('s3')"
   ]
  },
  {
   "cell_type": "code",
   "execution_count": 4,
   "id": "7a85e82b-8efa-468d-ab93-74d94e78a4db",
   "metadata": {},
   "outputs": [
    {
     "name": "stdout",
     "output_type": "stream",
     "text": [
      "--2023-12-07 01:03:59--  https://bucket-turismo.s3.amazonaws.com/TURISMO_CONSOLIDADO.csv\n",
      "Resolving bucket-turismo.s3.amazonaws.com (bucket-turismo.s3.amazonaws.com)... 54.231.163.57, 54.231.224.153, 3.5.6.179, ...\n",
      "Connecting to bucket-turismo.s3.amazonaws.com (bucket-turismo.s3.amazonaws.com)|54.231.163.57|:443... connected.\n",
      "HTTP request sent, awaiting response... 403 Forbidden\n",
      "2023-12-07 01:03:59 ERROR 403: Forbidden.\n",
      "\n"
     ]
    }
   ],
   "source": [
    "!wget -c https://bucket-turismo.s3.amazonaws.com/TURISMO_CONSOLIDADO.csv"
   ]
  },
  {
   "cell_type": "code",
   "execution_count": 5,
   "id": "40778753-e2b1-4654-aa37-62157eec6ab2",
   "metadata": {},
   "outputs": [
    {
     "data": {
      "text/plain": [
       "{'ResponseMetadata': {'RequestId': '73JHBQJHZVA9CW3R',\n",
       "  'HostId': 'kIG4+mAgq4JK+J/SvxdFngZtaGkXGkPhq5u6JULsPUCb9TjPhXbDAqS0VwrFIyyFfp9BRuDBkLI=',\n",
       "  'HTTPStatusCode': 200,\n",
       "  'HTTPHeaders': {'x-amz-id-2': 'kIG4+mAgq4JK+J/SvxdFngZtaGkXGkPhq5u6JULsPUCb9TjPhXbDAqS0VwrFIyyFfp9BRuDBkLI=',\n",
       "   'x-amz-request-id': '73JHBQJHZVA9CW3R',\n",
       "   'date': 'Thu, 07 Dec 2023 01:04:01 GMT',\n",
       "   'x-amz-bucket-region': 'us-east-1',\n",
       "   'content-type': 'application/xml',\n",
       "   'transfer-encoding': 'chunked',\n",
       "   'server': 'AmazonS3'},\n",
       "  'RetryAttempts': 0},\n",
       " 'IsTruncated': False,\n",
       " 'Marker': '',\n",
       " 'Contents': [{'Key': 'TURISMO_CONSOLIDADO.csv',\n",
       "   'LastModified': datetime.datetime(2023, 12, 7, 0, 6, 19, tzinfo=tzlocal()),\n",
       "   'ETag': '\"2d890b12abd6b08c598646f098c8b5fb-2\"',\n",
       "   'Size': 34323328,\n",
       "   'StorageClass': 'STANDARD',\n",
       "   'Owner': {'DisplayName': 'giovanni.carignato',\n",
       "    'ID': '6b86d16c4f4a613ff6386a18db113e8b732a281b580199d1b22186707900537a'}}],\n",
       " 'Name': 'bucket-turismo',\n",
       " 'Prefix': '',\n",
       " 'MaxKeys': 1000,\n",
       " 'EncodingType': 'url'}"
      ]
     },
     "execution_count": 5,
     "metadata": {},
     "output_type": "execute_result"
    }
   ],
   "source": [
    "response = s3_client.list_objects(Bucket=\"bucket-turismo\")\n",
    "response"
   ]
  },
  {
   "cell_type": "code",
   "execution_count": 6,
   "id": "86b0870f-e811-43be-8b3d-c8ee7b8589dc",
   "metadata": {},
   "outputs": [],
   "source": [
    "s3_client.download_file('bucket-turismo','TURISMO_CONSOLIDADO.csv','TURISMO_CONSOLIDADO.csv')"
   ]
  },
  {
   "cell_type": "code",
   "execution_count": 7,
   "id": "cdeeaadf-2381-4384-b0c1-d16aa573dbcf",
   "metadata": {},
   "outputs": [],
   "source": [
    "turismo_data = pd.read_csv('TURISMO_CONSOLIDADO.csv', delimiter=';', on_bad_lines='skip')"
   ]
  },
  {
   "cell_type": "code",
   "execution_count": 8,
   "id": "72f6f4a8-e55f-46c7-bbeb-a56334f17569",
   "metadata": {},
   "outputs": [
    {
     "data": {
      "text/plain": [
       "<bound method NDFrame.describe of                          continente  cod_continente                      pais  \\\n",
       "0          AMERICA CENTRAL E CARIBE               2                      CUBA   \n",
       "1          AMERICA CENTRAL E CARIBE               2                      CUBA   \n",
       "2          AMERICA CENTRAL E CARIBE               2                      CUBA   \n",
       "3          AMERICA CENTRAL E CARIBE               2                      CUBA   \n",
       "4          AMERICA CENTRAL E CARIBE               2                      CUBA   \n",
       "...                             ...             ...                       ...   \n",
       "505063  CONTINENTE NAO ESPECIFICADO               8  PAISES NAO ESPECIFICADOS   \n",
       "505064  CONTINENTE NAO ESPECIFICADO               8  PAISES NAO ESPECIFICADOS   \n",
       "505065  CONTINENTE NAO ESPECIFICADO               8  PAISES NAO ESPECIFICADOS   \n",
       "505066  CONTINENTE NAO ESPECIFICADO               8  PAISES NAO ESPECIFICADOS   \n",
       "505067  CONTINENTE NAO ESPECIFICADO               8  PAISES NAO ESPECIFICADOS   \n",
       "\n",
       "        cod_pais                            uf  cod_uf        via  cod_via  \\\n",
       "0             55                      AMAZONAS       4  TERRESTRE        2   \n",
       "1             55                      AMAZONAS       4  TERRESTRE        2   \n",
       "2             55                      AMAZONAS       4      AEREA        1   \n",
       "3             55                      AMAZONAS       4      AEREA        1   \n",
       "4             55                      AMAZONAS       4      AEREA        1   \n",
       "...          ...                           ...     ...        ...      ...   \n",
       "505063       999  OUTRAS UNIDADES DA FEDERACAO      99   MARITIMA        3   \n",
       "505064       999  OUTRAS UNIDADES DA FEDERACAO      99  TERRESTRE        2   \n",
       "505065       999  OUTRAS UNIDADES DA FEDERACAO      99   MARITIMA        3   \n",
       "505066       999  OUTRAS UNIDADES DA FEDERACAO      99      AEREA        1   \n",
       "505067       999  OUTRAS UNIDADES DA FEDERACAO      99   MARITIMA        3   \n",
       "\n",
       "         ano       mes  cod_mes  chegadas  \n",
       "0       2012   OUTUBRO       10       0.0  \n",
       "1       2012   JANEIRO        1       0.0  \n",
       "2       2012  SETEMBRO        9      10.0  \n",
       "3       2012     ABRIL        4      13.0  \n",
       "4       2012  DEZEMBRO       12      17.0  \n",
       "...      ...       ...      ...       ...  \n",
       "505063  2020     JUNHO        6       0.0  \n",
       "505064  2020    AGOSTO        8       0.0  \n",
       "505065  2020     JULHO        7       0.0  \n",
       "505066  2020     ABRIL        4       0.0  \n",
       "505067  2020     ABRIL        4       0.0  \n",
       "\n",
       "[505068 rows x 12 columns]>"
      ]
     },
     "execution_count": 8,
     "metadata": {},
     "output_type": "execute_result"
    }
   ],
   "source": [
    "turismo_data.describe"
   ]
  },
  {
   "cell_type": "code",
   "execution_count": 9,
   "id": "a22b67c0-c5dc-4b72-8bc8-0508b78e89be",
   "metadata": {},
   "outputs": [],
   "source": [
    "turismo_data.drop(['continente', 'cod_continente', 'pais', 'uf','via', 'cod_via', 'mes'], axis = 1, inplace = True)"
   ]
  },
  {
   "cell_type": "code",
   "execution_count": 10,
   "id": "01ddde00-1fb8-4a18-b678-b5b02f2be6c9",
   "metadata": {},
   "outputs": [
    {
     "data": {
      "text/plain": [
       "cod_pais       0\n",
       "cod_uf         0\n",
       "ano            0\n",
       "cod_mes        0\n",
       "chegadas    2688\n",
       "dtype: int64"
      ]
     },
     "execution_count": 10,
     "metadata": {},
     "output_type": "execute_result"
    }
   ],
   "source": [
    "turismo_data.isnull().sum()"
   ]
  },
  {
   "cell_type": "code",
   "execution_count": 11,
   "id": "7c50ce6c-2c44-4185-bbf5-cb3e96f96768",
   "metadata": {},
   "outputs": [],
   "source": [
    "turismo_data.dropna(subset=['chegadas'], inplace=True)"
   ]
  },
  {
   "cell_type": "code",
   "execution_count": 12,
   "id": "e58237bc-5e8a-4734-898b-e6f5399349ea",
   "metadata": {},
   "outputs": [
    {
     "data": {
      "text/plain": [
       "cod_pais    0\n",
       "cod_uf      0\n",
       "ano         0\n",
       "cod_mes     0\n",
       "chegadas    0\n",
       "dtype: int64"
      ]
     },
     "execution_count": 12,
     "metadata": {},
     "output_type": "execute_result"
    }
   ],
   "source": [
    "turismo_data.isnull().sum()"
   ]
  },
  {
   "cell_type": "code",
   "execution_count": 13,
   "id": "0115efe5-701a-43cb-aced-59bd640671f7",
   "metadata": {},
   "outputs": [
    {
     "data": {
      "text/plain": [
       "<bound method NDFrame.describe of         cod_pais  cod_uf   ano  cod_mes  chegadas\n",
       "0             55       4  2012       10       0.0\n",
       "1             55       4  2012        1       0.0\n",
       "2             55       4  2012        9      10.0\n",
       "3             55       4  2012        4      13.0\n",
       "4             55       4  2012       12      17.0\n",
       "...          ...     ...   ...      ...       ...\n",
       "505063       999      99  2020        6       0.0\n",
       "505064       999      99  2020        8       0.0\n",
       "505065       999      99  2020        7       0.0\n",
       "505066       999      99  2020        4       0.0\n",
       "505067       999      99  2020        4       0.0\n",
       "\n",
       "[502380 rows x 5 columns]>"
      ]
     },
     "execution_count": 13,
     "metadata": {},
     "output_type": "execute_result"
    }
   ],
   "source": [
    "turismo_data.describe"
   ]
  },
  {
   "cell_type": "code",
   "execution_count": 14,
   "id": "fe76c19c-d316-4ac8-b1a9-efc38d87e7de",
   "metadata": {},
   "outputs": [],
   "source": [
    "re_train, re_test = train_test_split(turismo_data, train_size=0.7)\n",
    "X_train = re_train.iloc[:,[0, 1, 2, 3]]\n",
    "y_train = re_train.iloc[:,4]\n",
    "\n",
    "X_test = re_test.iloc[:, [0, 1, 2, 3]]\n",
    "y_test = re_test.iloc[:,4]"
   ]
  },
  {
   "cell_type": "code",
   "execution_count": 15,
   "id": "9ae4613c-305e-40d3-9adc-23a022daabf6",
   "metadata": {},
   "outputs": [
    {
     "data": {
      "text/html": [
       "<div>\n",
       "<style scoped>\n",
       "    .dataframe tbody tr th:only-of-type {\n",
       "        vertical-align: middle;\n",
       "    }\n",
       "\n",
       "    .dataframe tbody tr th {\n",
       "        vertical-align: top;\n",
       "    }\n",
       "\n",
       "    .dataframe thead th {\n",
       "        text-align: right;\n",
       "    }\n",
       "</style>\n",
       "<table border=\"1\" class=\"dataframe\">\n",
       "  <thead>\n",
       "    <tr style=\"text-align: right;\">\n",
       "      <th></th>\n",
       "      <th>cod_pais</th>\n",
       "      <th>cod_uf</th>\n",
       "      <th>ano</th>\n",
       "      <th>cod_mes</th>\n",
       "    </tr>\n",
       "  </thead>\n",
       "  <tbody>\n",
       "    <tr>\n",
       "      <th>202231</th>\n",
       "      <td>26</td>\n",
       "      <td>24</td>\n",
       "      <td>2014</td>\n",
       "      <td>6</td>\n",
       "    </tr>\n",
       "    <tr>\n",
       "      <th>357853</th>\n",
       "      <td>998</td>\n",
       "      <td>21</td>\n",
       "      <td>2021</td>\n",
       "      <td>7</td>\n",
       "    </tr>\n",
       "    <tr>\n",
       "      <th>99897</th>\n",
       "      <td>174</td>\n",
       "      <td>3</td>\n",
       "      <td>2018</td>\n",
       "      <td>8</td>\n",
       "    </tr>\n",
       "    <tr>\n",
       "      <th>298312</th>\n",
       "      <td>173</td>\n",
       "      <td>99</td>\n",
       "      <td>2017</td>\n",
       "      <td>4</td>\n",
       "    </tr>\n",
       "    <tr>\n",
       "      <th>51118</th>\n",
       "      <td>998</td>\n",
       "      <td>19</td>\n",
       "      <td>2019</td>\n",
       "      <td>3</td>\n",
       "    </tr>\n",
       "  </tbody>\n",
       "</table>\n",
       "</div>"
      ],
      "text/plain": [
       "        cod_pais  cod_uf   ano  cod_mes\n",
       "202231        26      24  2014        6\n",
       "357853       998      21  2021        7\n",
       "99897        174       3  2018        8\n",
       "298312       173      99  2017        4\n",
       "51118        998      19  2019        3"
      ]
     },
     "execution_count": 15,
     "metadata": {},
     "output_type": "execute_result"
    }
   ],
   "source": [
    "X_train.head()"
   ]
  },
  {
   "cell_type": "code",
   "execution_count": 16,
   "id": "6959b6db-239a-483c-94d7-d3cc13574d18",
   "metadata": {},
   "outputs": [
    {
     "data": {
      "text/plain": [
       "202231      0.0\n",
       "357853      0.0\n",
       "99897       0.0\n",
       "298312      0.0\n",
       "51118     399.0\n",
       "Name: chegadas, dtype: float64"
      ]
     },
     "execution_count": 16,
     "metadata": {},
     "output_type": "execute_result"
    }
   ],
   "source": [
    "y_train.head()"
   ]
  },
  {
   "cell_type": "code",
   "execution_count": 17,
   "id": "c96fdb90-3bc8-4ae2-a238-0e689801fa33",
   "metadata": {},
   "outputs": [
    {
     "data": {
      "text/html": [
       "<div>\n",
       "<style scoped>\n",
       "    .dataframe tbody tr th:only-of-type {\n",
       "        vertical-align: middle;\n",
       "    }\n",
       "\n",
       "    .dataframe tbody tr th {\n",
       "        vertical-align: top;\n",
       "    }\n",
       "\n",
       "    .dataframe thead th {\n",
       "        text-align: right;\n",
       "    }\n",
       "</style>\n",
       "<table border=\"1\" class=\"dataframe\">\n",
       "  <thead>\n",
       "    <tr style=\"text-align: right;\">\n",
       "      <th></th>\n",
       "      <th>cod_pais</th>\n",
       "      <th>cod_uf</th>\n",
       "      <th>ano</th>\n",
       "      <th>cod_mes</th>\n",
       "    </tr>\n",
       "  </thead>\n",
       "  <tbody>\n",
       "    <tr>\n",
       "      <th>421136</th>\n",
       "      <td>63</td>\n",
       "      <td>12</td>\n",
       "      <td>2022</td>\n",
       "      <td>11</td>\n",
       "    </tr>\n",
       "    <tr>\n",
       "      <th>318742</th>\n",
       "      <td>228</td>\n",
       "      <td>16</td>\n",
       "      <td>2015</td>\n",
       "      <td>11</td>\n",
       "    </tr>\n",
       "    <tr>\n",
       "      <th>70802</th>\n",
       "      <td>179</td>\n",
       "      <td>99</td>\n",
       "      <td>2019</td>\n",
       "      <td>12</td>\n",
       "    </tr>\n",
       "    <tr>\n",
       "      <th>394733</th>\n",
       "      <td>94</td>\n",
       "      <td>5</td>\n",
       "      <td>2021</td>\n",
       "      <td>9</td>\n",
       "    </tr>\n",
       "    <tr>\n",
       "      <th>246205</th>\n",
       "      <td>26</td>\n",
       "      <td>21</td>\n",
       "      <td>2016</td>\n",
       "      <td>1</td>\n",
       "    </tr>\n",
       "  </tbody>\n",
       "</table>\n",
       "</div>"
      ],
      "text/plain": [
       "        cod_pais  cod_uf   ano  cod_mes\n",
       "421136        63      12  2022       11\n",
       "318742       228      16  2015       11\n",
       "70802        179      99  2019       12\n",
       "394733        94       5  2021        9\n",
       "246205        26      21  2016        1"
      ]
     },
     "execution_count": 17,
     "metadata": {},
     "output_type": "execute_result"
    }
   ],
   "source": [
    "X_test.head()"
   ]
  },
  {
   "cell_type": "code",
   "execution_count": 18,
   "id": "109da38a-996e-4f0f-9f8a-f51e00fb2f18",
   "metadata": {},
   "outputs": [
    {
     "data": {
      "text/plain": [
       "421136    0.0\n",
       "318742    1.0\n",
       "70802     0.0\n",
       "394733    1.0\n",
       "246205    0.0\n",
       "Name: chegadas, dtype: float64"
      ]
     },
     "execution_count": 18,
     "metadata": {},
     "output_type": "execute_result"
    }
   ],
   "source": [
    "y_test.head()"
   ]
  },
  {
   "cell_type": "code",
   "execution_count": 19,
   "id": "a04cdbe3-ea09-40bb-911e-0720d2dc87da",
   "metadata": {},
   "outputs": [],
   "source": [
    "reg = linear_model.LinearRegression()"
   ]
  },
  {
   "cell_type": "code",
   "execution_count": 20,
   "id": "e51efcf7-ca8a-4ec4-86c6-e230511031fe",
   "metadata": {},
   "outputs": [
    {
     "data": {
      "text/html": [
       "<style>#sk-container-id-1 {color: black;}#sk-container-id-1 pre{padding: 0;}#sk-container-id-1 div.sk-toggleable {background-color: white;}#sk-container-id-1 label.sk-toggleable__label {cursor: pointer;display: block;width: 100%;margin-bottom: 0;padding: 0.3em;box-sizing: border-box;text-align: center;}#sk-container-id-1 label.sk-toggleable__label-arrow:before {content: \"▸\";float: left;margin-right: 0.25em;color: #696969;}#sk-container-id-1 label.sk-toggleable__label-arrow:hover:before {color: black;}#sk-container-id-1 div.sk-estimator:hover label.sk-toggleable__label-arrow:before {color: black;}#sk-container-id-1 div.sk-toggleable__content {max-height: 0;max-width: 0;overflow: hidden;text-align: left;background-color: #f0f8ff;}#sk-container-id-1 div.sk-toggleable__content pre {margin: 0.2em;color: black;border-radius: 0.25em;background-color: #f0f8ff;}#sk-container-id-1 input.sk-toggleable__control:checked~div.sk-toggleable__content {max-height: 200px;max-width: 100%;overflow: auto;}#sk-container-id-1 input.sk-toggleable__control:checked~label.sk-toggleable__label-arrow:before {content: \"▾\";}#sk-container-id-1 div.sk-estimator input.sk-toggleable__control:checked~label.sk-toggleable__label {background-color: #d4ebff;}#sk-container-id-1 div.sk-label input.sk-toggleable__control:checked~label.sk-toggleable__label {background-color: #d4ebff;}#sk-container-id-1 input.sk-hidden--visually {border: 0;clip: rect(1px 1px 1px 1px);clip: rect(1px, 1px, 1px, 1px);height: 1px;margin: -1px;overflow: hidden;padding: 0;position: absolute;width: 1px;}#sk-container-id-1 div.sk-estimator {font-family: monospace;background-color: #f0f8ff;border: 1px dotted black;border-radius: 0.25em;box-sizing: border-box;margin-bottom: 0.5em;}#sk-container-id-1 div.sk-estimator:hover {background-color: #d4ebff;}#sk-container-id-1 div.sk-parallel-item::after {content: \"\";width: 100%;border-bottom: 1px solid gray;flex-grow: 1;}#sk-container-id-1 div.sk-label:hover label.sk-toggleable__label {background-color: #d4ebff;}#sk-container-id-1 div.sk-serial::before {content: \"\";position: absolute;border-left: 1px solid gray;box-sizing: border-box;top: 0;bottom: 0;left: 50%;z-index: 0;}#sk-container-id-1 div.sk-serial {display: flex;flex-direction: column;align-items: center;background-color: white;padding-right: 0.2em;padding-left: 0.2em;position: relative;}#sk-container-id-1 div.sk-item {position: relative;z-index: 1;}#sk-container-id-1 div.sk-parallel {display: flex;align-items: stretch;justify-content: center;background-color: white;position: relative;}#sk-container-id-1 div.sk-item::before, #sk-container-id-1 div.sk-parallel-item::before {content: \"\";position: absolute;border-left: 1px solid gray;box-sizing: border-box;top: 0;bottom: 0;left: 50%;z-index: -1;}#sk-container-id-1 div.sk-parallel-item {display: flex;flex-direction: column;z-index: 1;position: relative;background-color: white;}#sk-container-id-1 div.sk-parallel-item:first-child::after {align-self: flex-end;width: 50%;}#sk-container-id-1 div.sk-parallel-item:last-child::after {align-self: flex-start;width: 50%;}#sk-container-id-1 div.sk-parallel-item:only-child::after {width: 0;}#sk-container-id-1 div.sk-dashed-wrapped {border: 1px dashed gray;margin: 0 0.4em 0.5em 0.4em;box-sizing: border-box;padding-bottom: 0.4em;background-color: white;}#sk-container-id-1 div.sk-label label {font-family: monospace;font-weight: bold;display: inline-block;line-height: 1.2em;}#sk-container-id-1 div.sk-label-container {text-align: center;}#sk-container-id-1 div.sk-container {/* jupyter's `normalize.less` sets `[hidden] { display: none; }` but bootstrap.min.css set `[hidden] { display: none !important; }` so we also need the `!important` here to be able to override the default hidden behavior on the sphinx rendered scikit-learn.org. See: https://github.com/scikit-learn/scikit-learn/issues/21755 */display: inline-block !important;position: relative;}#sk-container-id-1 div.sk-text-repr-fallback {display: none;}</style><div id=\"sk-container-id-1\" class=\"sk-top-container\"><div class=\"sk-text-repr-fallback\"><pre>LinearRegression()</pre><b>In a Jupyter environment, please rerun this cell to show the HTML representation or trust the notebook. <br />On GitHub, the HTML representation is unable to render, please try loading this page with nbviewer.org.</b></div><div class=\"sk-container\" hidden><div class=\"sk-item\"><div class=\"sk-estimator sk-toggleable\"><input class=\"sk-toggleable__control sk-hidden--visually\" id=\"sk-estimator-id-1\" type=\"checkbox\" checked><label for=\"sk-estimator-id-1\" class=\"sk-toggleable__label sk-toggleable__label-arrow\">LinearRegression</label><div class=\"sk-toggleable__content\"><pre>LinearRegression()</pre></div></div></div></div></div>"
      ],
      "text/plain": [
       "LinearRegression()"
      ]
     },
     "execution_count": 20,
     "metadata": {},
     "output_type": "execute_result"
    }
   ],
   "source": [
    "reg.fit(X=X_train,y=y_train)"
   ]
  },
  {
   "cell_type": "code",
   "execution_count": 21,
   "id": "415d15bb-b214-4800-ba43-c72139befae5",
   "metadata": {},
   "outputs": [
    {
     "data": {
      "text/plain": [
       "array([ -0.22365098,  -0.40632202, -20.55421983,  -7.06454749])"
      ]
     },
     "execution_count": 21,
     "metadata": {},
     "output_type": "execute_result"
    }
   ],
   "source": [
    "reg.coef_"
   ]
  },
  {
   "cell_type": "code",
   "execution_count": 22,
   "id": "8f491f67-6d47-40c0-a85e-9fa490c2c4f8",
   "metadata": {},
   "outputs": [
    {
     "data": {
      "text/plain": [
       "41692.97741640306"
      ]
     },
     "execution_count": 22,
     "metadata": {},
     "output_type": "execute_result"
    }
   ],
   "source": [
    "reg.intercept_"
   ]
  },
  {
   "cell_type": "code",
   "execution_count": 23,
   "id": "e3624356-c899-4371-b580-456a31b0f4bb",
   "metadata": {},
   "outputs": [],
   "source": [
    "y_pred = reg.predict(X_test)"
   ]
  },
  {
   "cell_type": "code",
   "execution_count": 24,
   "id": "1dd6b98e-3959-44e5-b429-234cc5b43996",
   "metadata": {},
   "outputs": [
    {
     "name": "stdout",
     "output_type": "stream",
     "text": [
      "MSE 2275353.9009008054\n"
     ]
    }
   ],
   "source": [
    "print('MSE',metrics.mean_squared_error(y_test,y_pred))"
   ]
  },
  {
   "cell_type": "code",
   "execution_count": 25,
   "id": "36e1fb54-aafe-4e89-b7cf-885bad4c6202",
   "metadata": {},
   "outputs": [
    {
     "name": "stderr",
     "output_type": "stream",
     "text": [
      "/home/ubuntu/miniconda3/envs/jupyter/lib/python3.10/site-packages/sklearn/base.py:465: UserWarning: X does not have valid feature names, but LinearRegression was fitted with feature names\n",
      "  warnings.warn(\n"
     ]
    },
    {
     "data": {
      "text/plain": [
       "array([-39.45863289])"
      ]
     },
     "execution_count": 25,
     "metadata": {},
     "output_type": "execute_result"
    }
   ],
   "source": [
    "s = pickle.dumps(reg)\n",
    "reg2 = pickle.loads(s)\n",
    "reg2.predict([[68,25,2025,12]])"
   ]
  },
  {
   "cell_type": "code",
   "execution_count": 26,
   "id": "e2ebe63f-c97f-4c8d-8852-807724a60fa4",
   "metadata": {},
   "outputs": [
    {
     "data": {
      "text/plain": [
       "['modelo_turismo.joblib']"
      ]
     },
     "execution_count": 26,
     "metadata": {},
     "output_type": "execute_result"
    }
   ],
   "source": [
    "dump(reg, 'modelo_turismo.joblib')"
   ]
  },
  {
   "cell_type": "code",
   "execution_count": 27,
   "id": "e0d4c353-ad33-4963-ace8-d304d5b6eb00",
   "metadata": {},
   "outputs": [],
   "source": [
    "s3_client.upload_file('modelo_turismo.joblib','bucket-turismo','modelo_turismo.joblib')"
   ]
  },
  {
   "cell_type": "code",
   "execution_count": null,
   "id": "74d2b1d0-a225-4eb7-a10b-b73224feb4c9",
   "metadata": {},
   "outputs": [],
   "source": []
  }
 ],
 "metadata": {
  "kernelspec": {
   "display_name": "Python 3 (ipykernel)",
   "language": "python",
   "name": "python3"
  },
  "language_info": {
   "codemirror_mode": {
    "name": "ipython",
    "version": 3
   },
   "file_extension": ".py",
   "mimetype": "text/x-python",
   "name": "python",
   "nbconvert_exporter": "python",
   "pygments_lexer": "ipython3",
   "version": "3.10.13"
  }
 },
 "nbformat": 4,
 "nbformat_minor": 5
}